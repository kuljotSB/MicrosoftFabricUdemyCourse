{
 "cells": [
  {
   "cell_type": "markdown",
   "metadata": {},
   "source": [
    "creating schema and then creating a table \"Fact_Sales\""
   ]
  },
  {
   "cell_type": "code",
   "execution_count": null,
   "metadata": {
    "vscode": {
     "languageId": "plaintext"
    }
   },
   "outputs": [],
   "source": [
    "CREATE SCHEMA [Sales]\n",
    "GO\n",
    "\n",
    "IF NOT EXISTS (SELECT * FROM sys.tables WHERE name='Fact_Sales' AND SCHEMA_NAME(schema_id)='Sales')\n",
    "CREATE TABLE Sales.Fact_Sales (\n",
    "    SalesOrderNumber VARCHAR(255) NOT NULL,\n",
    "    Item VARCHAR(255) NOT NULL,\n",
    "    OrderDate DATE,\n",
    "    Year INT,\n",
    "    Month INT,\n",
    "    FirstName VARCHAR(255),\n",
    "    LastName VARCHAR(255),\n",
    "    Email VARCHAR(255),\n",
    "    Quantity INT,\n",
    "    UnitPrice FLOAT,\n",
    "    Tax FLOAT\n",
    ");"
   ]
  },
  {
   "cell_type": "markdown",
   "metadata": {},
   "source": [
    "loading table from lakehouse and storing that as a view in the warehouse\n"
   ]
  },
  {
   "cell_type": "code",
   "execution_count": null,
   "metadata": {
    "vscode": {
     "languageId": "plaintext"
    }
   },
   "outputs": [],
   "source": [
    "CREATE VIEW Sales.Orders\n",
    "AS\n",
    "SELECT * FROM [<your-lakehouse-name>].[dbo].[salesorders]"
   ]
  },
  {
   "cell_type": "markdown",
   "metadata": {},
   "source": [
    "defining a stored procedure to load data from the \"view\" to the fact_sales table based upon the \"orderyear\""
   ]
  },
  {
   "cell_type": "code",
   "execution_count": null,
   "metadata": {
    "vscode": {
     "languageId": "plaintext"
    }
   },
   "outputs": [],
   "source": [
    "CREATE OR ALTER PROCEDURE Sales.LoadDataFromStaging (@OrderYear INT)\n",
    "AS\n",
    "BEGIN\n",
    "   \n",
    "\n",
    "     -- Load data into the Fact_Sales table\n",
    "    INSERT INTO Sales.Fact_Sales (SalesOrderNumber, Item, OrderDate, Year, Month, FirstName, LastName, Email, Quantity, UnitPrice, Tax)\n",
    "    SELECT \n",
    "        SalesOrderNumber, \n",
    "        Item, \n",
    "        OrderDate, \n",
    "        YEAR(OrderDate), \n",
    "        MONTH(OrderDate), \n",
    "        FirstName, \n",
    "        LastName, \n",
    "        Email, \n",
    "        Quantity, \n",
    "        UnitPrice, \n",
    "        Tax\n",
    "    FROM [Sales].[Orders]\n",
    "    WHERE YEAR(OrderDate) = @OrderYear;\n",
    "\n",
    "    \n",
    "END;"
   ]
  },
  {
   "cell_type": "markdown",
   "metadata": {},
   "source": [
    "executing the stored procedure "
   ]
  },
  {
   "cell_type": "code",
   "execution_count": null,
   "metadata": {
    "vscode": {
     "languageId": "plaintext"
    }
   },
   "outputs": [],
   "source": [
    "EXEC Sales.LoadDataFromStaging 2019"
   ]
  }
 ],
 "metadata": {
  "language_info": {
   "name": "python"
  }
 },
 "nbformat": 4,
 "nbformat_minor": 2
}
